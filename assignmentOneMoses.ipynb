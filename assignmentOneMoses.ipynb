{
  "nbformat": 4,
  "nbformat_minor": 0,
  "metadata": {
    "colab": {
      "provenance": [],
      "authorship_tag": "ABX9TyOm4V/aHxqlpjyB4YOQdJfH",
      "include_colab_link": true
    },
    "kernelspec": {
      "name": "python3",
      "display_name": "Python 3"
    },
    "language_info": {
      "name": "python"
    }
  },
  "cells": [
    {
      "cell_type": "markdown",
      "metadata": {
        "id": "view-in-github",
        "colab_type": "text"
      },
      "source": [
        "<a href=\"https://colab.research.google.com/github/mosauce-code/CSCI1227/blob/main/assignmentOneMoses.ipynb\" target=\"_parent\"><img src=\"https://colab.research.google.com/assets/colab-badge.svg\" alt=\"Open In Colab\"/></a>"
      ]
    },
    {
      "cell_type": "code",
      "execution_count": null,
      "metadata": {
        "colab": {
          "base_uri": "https://localhost:8080/"
        },
        "id": "pdbfitkqxeb1",
        "outputId": "d6c7120c-e083-4b2b-a36f-a68fba86fd8e"
      },
      "outputs": [
        {
          "output_type": "stream",
          "name": "stdout",
          "text": [
            "Lab 1 (Winter 2025) - Python \"print\" Function\n",
            "The function is declared like this: \n",
            "print('whatever needs to be printed')\n"
          ]
        }
      ],
      "source": [
        "\"\"\"\n",
        "Q1. Printing\n",
        "Write a Python program using the Python `print` function that should print the following at the\n",
        "console when you run the program.\n",
        "\"\"\"\n",
        "\n",
        "print('Lab 1 (Winter 2025) - Python \"print\" Function')\n",
        "print(\"The function is declared like this: \")\n",
        "print(\"print('whatever needs to be printed')\")"
      ]
    },
    {
      "cell_type": "code",
      "source": [
        "\"\"\"\n",
        "Q2. Debugging practices:\n",
        "Look at the code provided in q2.py file. There are error(s) on all 5 lines of code. Fix the code so that\n",
        "it runs without errors.\n",
        "\"\"\"\n",
        "print(\"Notes from Day 1\") #incomplete quotations\n",
        "print(\"The print statement is used to output strings\") #indent\n",
        "print(\"Strings are strings of characters\")#bracket fix\n",
        "print('String Concatenation is done with the \"+\" sign') #lowercase p, plus sign\n",
        "print(\"New lines can be created with a \\ and the letter n\")#bracket fix(extra bracket)"
      ],
      "metadata": {
        "colab": {
          "base_uri": "https://localhost:8080/"
        },
        "id": "un0mXWAex8H3",
        "outputId": "6ebd45d0-17e8-4684-b6fa-5e69a18d6434"
      },
      "execution_count": null,
      "outputs": [
        {
          "output_type": "stream",
          "name": "stdout",
          "text": [
            "Notes from Day 1\n",
            "The print statement is used to output strings\n",
            "Strings are strings of characters\n",
            "String Concatenation is done with the \"+\" sign\n",
            "New lines can be created with a \\ and the letter n\n"
          ]
        }
      ]
    },
    {
      "cell_type": "code",
      "source": [
        "\"\"\"\n",
        "Q3. Variables\n",
        "We have 2 variables glass1 and glass2. Variable glass1 is assigned a value “milk” and\n",
        "glass2 is assigned a value “lemonade”. Write 3 lines of code to switch the contents/values of the\n",
        "variables. You are not allowed to reassign the words \"milk\" or \"lemonade\" to glass2 and\n",
        "glass1, respectively. However, you are allowed to use other variable(s), if needed, to solve this\n",
        "exercise.\n",
        "Note: A starter code is given for your reference (q3.py). You must explain your logic in a separate\n",
        "note or as comment below the code in your script.\n",
        "\"\"\"\n",
        "\n",
        "\n",
        "\n",
        "\n",
        "# Don't change the code below\n",
        "glass1 = \"milk\"\n",
        "glass2 = \"lemonade\"\n",
        "print(\"Initially:\")\n",
        "print(f\"glass1 contains {glass1}, and glass2 contains {glass2}\")\n",
        "# Don't change the code above\n",
        "\n",
        "####################################\n",
        "# Write your code below this line 👇\n",
        "\n",
        "glass1, glass2 = glass2, glass1 #using a tuple swap, a switch of two variables using Python's line interpretation\n",
        "# Write your code above this line 👆\n",
        "####################################\n",
        "\n",
        "# Don't change the code below\n",
        "print(\"After executing your code:\")\n",
        "print(f\"glass1 contains {glass1}, and glass2 contains {glass2}\")"
      ],
      "metadata": {
        "colab": {
          "base_uri": "https://localhost:8080/"
        },
        "id": "AUYHh88pz3fl",
        "outputId": "a3cfc9ff-0e8a-4791-dd5e-b0131fd79101"
      },
      "execution_count": null,
      "outputs": [
        {
          "output_type": "stream",
          "name": "stdout",
          "text": [
            "Initially:\n",
            "glass1 contains milk, and glass2 contains lemonade\n",
            "After executing your code:\n",
            "glass1 contains lemonade, and glass2 contains milk\n"
          ]
        }
      ]
    },
    {
      "cell_type": "code",
      "source": [
        "\"\"\"\n",
        "Q4. Algorithm – The Falling Penny Myth\n",
        "You might have heard that a penny dropped from the top of the Empire State Building would be\n",
        "going so fast when it hit the pavement that it would be embedded in the concrete; or if it hit a\n",
        "person, it would break their skull.\n",
        "You are asked to write an algorithm to check whether the myth is true or not. Explain your way to\n",
        "solve this problem. You can use mathematical equations/models to support your algorithm. Our\n",
        "focus is not about the correctness of your solution but your approach to solve the problem.\n",
        "\"\"\"\n",
        "\n",
        "#To check the myth, the time taken for the penny to fall down, as well as the mass of the penny must be noted.\n",
        "massPenny = 2.5 #This value's from google.\n",
        "freeFall = 9.81\n",
        "buildingHeight = 381\n",
        "\n",
        "#Force = mass*acceleration\n",
        "\n",
        "\n",
        "boneBreakingForce = 4000\n",
        "\n",
        "workFormula = (massPenny*buildingHeight)\n",
        "\n",
        "\n",
        "\n",
        "\n",
        "if workFormula > boneBreakingForce:\n",
        "  print(\"ded\")\n",
        "else:\n",
        "  print(f\"debunked, only {int(workFormula)} N present\")"
      ],
      "metadata": {
        "colab": {
          "base_uri": "https://localhost:8080/"
        },
        "id": "FE0BsOhe9iRJ",
        "outputId": "9f9136f3-22cf-4730-acd8-4a675f36910d"
      },
      "execution_count": null,
      "outputs": [
        {
          "output_type": "stream",
          "name": "stdout",
          "text": [
            "debunked, only 952 N present\n"
          ]
        }
      ]
    },
    {
      "cell_type": "code",
      "source": [],
      "metadata": {
        "id": "LsKZWnn79l2L"
      },
      "execution_count": null,
      "outputs": []
    }
  ]
}