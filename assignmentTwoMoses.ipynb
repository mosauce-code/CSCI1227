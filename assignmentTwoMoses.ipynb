{
  "cells": [
    {
      "cell_type": "markdown",
      "metadata": {
        "id": "view-in-github",
        "colab_type": "text"
      },
      "source": [
        "<a href=\"https://colab.research.google.com/github/mosauce-code/CSCI1227/blob/main/assignmentTwoMoses.ipynb\" target=\"_parent\"><img src=\"https://colab.research.google.com/assets/colab-badge.svg\" alt=\"Open In Colab\"/></a>"
      ]
    },
    {
      "cell_type": "markdown",
      "metadata": {
        "id": "qver37fi2veu"
      },
      "source": [
        "Q1."
      ]
    },
    {
      "cell_type": "code",
      "execution_count": null,
      "metadata": {
        "id": "3t_lQfv72--Q"
      },
      "outputs": [],
      "source": [
        "pi = 3.14159\n",
        "pi_to_the_one_half_power = pi**(1/2)\n",
        "half_pi = pi/2\n",
        "two_pi = 2*pi"
      ]
    },
    {
      "cell_type": "markdown",
      "metadata": {
        "id": "NeoNoGTR6VnP"
      },
      "source": [
        "Q2."
      ]
    },
    {
      "cell_type": "code",
      "execution_count": null,
      "metadata": {
        "colab": {
          "base_uri": "https://localhost:8080/"
        },
        "id": "lsQ8OyxI6eXp",
        "outputId": "bcbf3328-7b54-42b7-c0e7-63574955ecc9"
      },
      "outputs": [
        {
          "name": "stdout",
          "output_type": "stream",
          "text": [
            "Enter the coordinates of the vertices of the triangle\n",
            "Enter the x-coordinate of the first vertex: 5\n",
            "Enter the y-coordinate of the first vertex: 4\n",
            "Enter the x-coordinate of the second vertex: 3\n",
            "Enter the y-coordinate of the second vertex: 2\n",
            "Enter the x-coordinate of the third vertex: 4\n",
            "Enter the y-coordinate of the third vertex: 6\n",
            "The area of the triangle is 3.0\n"
          ]
        }
      ],
      "source": [
        "def triangle_area(x1, y1, x2, y2, x3, y3):\n",
        "  return abs((x1*(y2-y3)+x2*(y3-y1)+x3*(y1-y2))/2)\n",
        "print(\"Enter the coordinates of the vertices of the triangle\")\n",
        "\n",
        "#First vertex\n",
        "x1 = float(input(\"Enter the x-coordinate of the first vertex: \"))\n",
        "y1 = float(input(\"Enter the y-coordinate of the first vertex: \"))\n",
        "#Second vertex\n",
        "x2 = float(input(\"Enter the x-coordinate of the second vertex: \"))\n",
        "y2 = float(input(\"Enter the y-coordinate of the second vertex: \"))\n",
        "#Third vertex\n",
        "x3 = float(input(\"Enter the x-coordinate of the third vertex: \"))\n",
        "y3 = float(input(\"Enter the y-coordinate of the third vertex: \"))\n",
        "\n",
        "area = triangle_area(x1, y1, x2, y2, x3, y3)\n",
        "print(\"The area of the triangle is\", area)\n",
        "\n",
        "\n"
      ]
    },
    {
      "cell_type": "markdown",
      "metadata": {
        "id": "1G9AY6kY8oXr"
      },
      "source": [
        "Q3."
      ]
    },
    {
      "cell_type": "code",
      "execution_count": null,
      "metadata": {
        "colab": {
          "base_uri": "https://localhost:8080/"
        },
        "id": "Vb79RXX38pxi",
        "outputId": "13f8aac2-b07d-45ff-b3b8-534f5654d21b"
      },
      "outputs": [
        {
          "output_type": "stream",
          "name": "stdout",
          "text": [
            "Input three numbers to calculate the mean and standard definition for three numbers: \n",
            "Enter the first number: 2\n",
            "Enter the second number: 3\n",
            "Enter the third number: 4\n",
            "The mean of 2.0, 3.0, and 4.0 is 6.333 and the standard deviation is 7.756.\n"
          ]
        }
      ],
      "source": [
        "#To calculate mean.\n",
        "import math\n",
        "\n",
        "\n",
        "def mean_function(num1, num2, num3):\n",
        "  return num1+num2+num3/3\n",
        "\n",
        "print(\"Input three numbers to calculate the mean and standard definition for three numbers: \")\n",
        "\n",
        "\n",
        "num1 = round(float(input(\"Enter the first number: \")), 3)\n",
        "num2 = round(float(input(\"Enter the second number: \")), 3)\n",
        "num3 = round(float(input(\"Enter the third number: \")), 3)\n",
        "\n",
        "mean = round(mean_function(num1, num2, num3), 3)\n",
        "\n",
        "#To calculate standard deviation.\n",
        "\n",
        "std_def = round(float(math.sqrt(((mean)**2)*(6))/2), 3)\n",
        "\n",
        "print (f\"The mean of {num1}, {num2}, and {num3} is {mean} and the standard deviation is {std_def}.\")\n",
        "\n",
        "\n",
        "\n",
        "\n",
        "\n",
        "\n"
      ]
    },
    {
      "cell_type": "markdown",
      "source": [
        "Q4."
      ],
      "metadata": {
        "id": "3PcPfXRlL_xl"
      }
    },
    {
      "cell_type": "code",
      "source": [
        "#Calculating BMI (in lbs)\n",
        "def bmi(weight, height):\n",
        "  return weight/(height**2)\n",
        "\n",
        "pound_to_kg = 0.453592\n",
        "feet_to_inches = 12\n",
        "inch = 0.0254\n",
        "\n",
        "weight_lbs = float(input(\"Enter your weight in pounds: \"))\n",
        "height_feet = float(input(\"Enter your height in feet: \"))\n",
        "height_inches = float(input(\"Enter your height in inches: \"))\n",
        "\n",
        "weight_kg = weight_lbs*pound_to_kg\n",
        "height_metres = (height_feet*feet_to_inches+height_inches)*inch\n",
        "\n",
        "bmi_value = round(bmi(weight_kg, height_metres), 1)\n",
        "\n",
        "print(f\"Your BMI is {bmi_value}.\")\n",
        "\n"
      ],
      "metadata": {
        "colab": {
          "base_uri": "https://localhost:8080/"
        },
        "id": "VU0jTqTBMDVo",
        "outputId": "fdfefbad-c17b-4c56-ba25-d1ad8531c339"
      },
      "execution_count": null,
      "outputs": [
        {
          "output_type": "stream",
          "name": "stdout",
          "text": [
            "Enter your weight in pounds: 302\n",
            "Enter your height in feet: 20\n",
            "Enter your height in inches: 323\n",
            "Your BMI is 0.7.\n"
          ]
        }
      ]
    }
  ],
  "metadata": {
    "colab": {
      "provenance": [],
      "authorship_tag": "ABX9TyM6YHxPerhs2b/sV+81PXzE",
      "include_colab_link": true
    },
    "kernelspec": {
      "display_name": "Python 3",
      "name": "python3"
    },
    "language_info": {
      "name": "python"
    }
  },
  "nbformat": 4,
  "nbformat_minor": 0
}