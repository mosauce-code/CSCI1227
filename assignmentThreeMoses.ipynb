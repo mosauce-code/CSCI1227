{
  "nbformat": 4,
  "nbformat_minor": 0,
  "metadata": {
    "colab": {
      "provenance": [],
      "toc_visible": true,
      "authorship_tag": "ABX9TyOQjEA9VSIpPOgzhWvpGba1",
      "include_colab_link": true
    },
    "kernelspec": {
      "name": "python3",
      "display_name": "Python 3"
    },
    "language_info": {
      "name": "python"
    }
  },
  "cells": [
    {
      "cell_type": "markdown",
      "metadata": {
        "id": "view-in-github",
        "colab_type": "text"
      },
      "source": [
        "<a href=\"https://colab.research.google.com/github/mosauce-code/CSCI1227/blob/main/assignmentThreeMoses.ipynb\" target=\"_parent\"><img src=\"https://colab.research.google.com/assets/colab-badge.svg\" alt=\"Open In Colab\"/></a>"
      ]
    },
    {
      "cell_type": "markdown",
      "source": [
        "# **Basic ATM simulator that mimics user authentication, balance view, deposit and withdrawal.**"
      ],
      "metadata": {
        "id": "p8OZbP2Ic3OK"
      }
    },
    {
      "cell_type": "markdown",
      "source": [
        "### Steps to Implement the Program:\n",
        "\n",
        "1. **Display the Menu Options:**\n",
        "   - Present the following menu to the user:\n",
        "     ```\n",
        "     1. Change PIN\n",
        "     2. View Current Balance\n",
        "     3. Withdraw Funds\n",
        "     4. Deposit Funds\n",
        "     5. Quit\n",
        "     ```\n",
        "\n",
        "2. **Prompt the User for Input:**\n",
        "   - Ask the user to enter a choice (1-5).\n",
        "\n",
        "3. **Handle Invalid Options:**\n",
        "   - If the user enters an invalid option (not 1-5):\n",
        "     - Display a message: \"Invalid option selected.\"\n",
        "     - End the session.\n",
        "\n",
        "4. **Handle Option 5 (Quit):**\n",
        "   - If the user selects option 5:\n",
        "     - Display \"Bye.\"\n",
        "     - End the session.\n",
        "\n",
        "5. **Handle Option 1 (Change PIN):**\n",
        "   - Prompt the user to enter their old PIN.\n",
        "   - Prompt the user to enter a new PIN.\n",
        "   - If the old PIN matches the stored PIN:\n",
        "     - Update the PIN to the new value.\n",
        "     - Display: \"PIN successfully updated.\"\n",
        "   - If the old PIN does not match:\n",
        "     - Display: \"Incorrect PIN.\"\n",
        "\n",
        "6. **Handle Option 2 (View Current Balance):**\n",
        "   - Display the current balance.\n",
        "\n",
        "7. **Handle Option 3 (Withdraw Funds):**\n",
        "   - Prompt the user to enter the withdrawal amount.\n",
        "   - If the entered amount is less than or equal to the current balance:\n",
        "     - Deduct the amount from the balance.\n",
        "     - Display: \"Withdrawal successful.\"\n",
        "   - If the entered amount is greater than the balance:\n",
        "     - Display: \"Insufficient funds.\"\n",
        "\n",
        "8. **Handle Option 4 (Deposit Funds):**\n",
        "   - Prompt the user to enter the deposit amount.\n",
        "   - Add the amount to the current balance.\n",
        "   - Display: \"Deposit successful.\"\n",
        "\n",
        "9. **Display \"Bye\" Before Ending:**\n",
        "   - Before ending the program (after handling any option), display \"Bye.\"\n",
        "\n",
        "10. **Loop or End the Program:**\n",
        "    - Loop back to the menu for another selection unless the user chooses to quit (option 5) or selects an invalid option."
      ],
      "metadata": {
        "id": "JYag_rQJYVkg"
      }
    },
    {
      "cell_type": "code",
      "execution_count": null,
      "metadata": {
        "colab": {
          "base_uri": "https://localhost:8080/"
        },
        "id": "yaNto6N_XdLA",
        "outputId": "78df5244-2adf-4db8-f7bc-d0331a8ded69"
      },
      "outputs": [
        {
          "output_type": "stream",
          "name": "stdout",
          "text": [
            "Welcome to Moses' mosaucebank! \n",
            "\n",
            "Enter your PIN: 3741\n",
            "Authentication successful.\n",
            "Menu Options:\n",
            "            1. Set a new PIN\n",
            "            2. View Balance\n",
            "            3. Withdraw\n",
            "            4. Deposit\n",
            "            5. Exit\n",
            "\n",
            "        \n",
            "Enter an option: 1\n",
            "Enter your old PIN: 392\n",
            "Invalid PIN. Exiting.\n",
            "Enter a new PIN: 23232\n",
            "Invalid PIN. Exiting. \n",
            "PIN updated successfully.\n"
          ]
        }
      ],
      "source": [
        "\n",
        "PIN = \"3741\" #used random number generators for these numbers\n",
        "balance = 10910\n",
        "\n",
        "# you should not change the following lines of code\n",
        "menuOptions = \"\"\"Menu Options:\n",
        "            1. Set a new PIN\n",
        "            2. View Balance\n",
        "            3. Withdraw\n",
        "            4. Deposit\n",
        "            5. Exit\n",
        "\n",
        "        \"\"\"\n",
        "\n",
        "bye = \"Thanks for using mosaucebank. Goodbye!\"\n",
        "\n",
        "# UPDATE - change your name in the welcome message at the terminal\n",
        "print(\"Welcome to Moses' mosaucebank! \\n\")\n",
        "\n",
        "# ask the user to enter a PIN and authenticate, quit if fails\n",
        "PIN_input = input(\"Enter your PIN: \")\n",
        "if PIN_input != PIN:\n",
        "    print(\"Invalid PIN. Exiting program.\")\n",
        "    exit()\n",
        "else:\n",
        "    print(\"Authentication successful.\")\n",
        "    print(menuOptions)\n",
        "\n",
        "    input_option = input(\"Enter an option: \")\n",
        "    match input_option:\n",
        "      case \"1\":\n",
        "        old_pin = input(\"Enter your old PIN: \")\n",
        "        if old_pin != PIN:\n",
        "            print(\"Invalid PIN. Exiting.\")\n",
        "            exit()\n",
        "        new_pin = input(\"Enter a new PIN: \")\n",
        "        PIN = new_pin\n",
        "        if len(PIN) != 4:\n",
        "            print(\"Invalid PIN. Exiting. \")\n",
        "            exit()\n",
        "        print(\"PIN updated successfully.\")\n",
        "      case \"2\":\n",
        "        print(f\"Your balance is: {balance}$\")\n",
        "      case \"3\":\n",
        "        withdraw_amount = float(input(\"Enter the amount to withdraw: \"))\n",
        "        if withdraw_amount > balance:\n",
        "            print(\"Insufficient funds.\")\n",
        "        else:\n",
        "            balance -= withdraw_amount\n",
        "            print(f\"mosaucebank would like to thank you for using our service. Your withdrawal is complete, and your balance is {balance}$. \")\n",
        "      case \"4\":\n",
        "        deposit_amount = float(input(\"Enter the amount to deposit: \"))\n",
        "        balance += deposit_amount\n",
        "        print(\"mosaucebank would like to thank you for using our service. Your deposit is complete\")\n",
        "      case \"5\":\n",
        "        print(bye)\n",
        "        exit()\n",
        "      case _:\n",
        "        print(\"Invalid option. Terminating the program. \")\n",
        "        exit()\n",
        "\n",
        "\n",
        "\n",
        "\n"
      ]
    }
  ]
}